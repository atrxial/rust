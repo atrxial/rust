{
 "cells": [
  {
   "cell_type": "code",
   "execution_count": 2,
   "metadata": {},
   "outputs": [],
   "source": [
    "import random\n",
    "import csv"
   ]
  },
  {
   "cell_type": "code",
   "execution_count": 9,
   "metadata": {},
   "outputs": [
    {
     "name": "stdout",
     "output_type": "stream",
     "text": [
      "Dataset created successfully!\n"
     ]
    }
   ],
   "source": [
    "\n",
    "# Define the number of data points\n",
    "num_points = 100\n",
    "\n",
    "# Define the range of x and y values\n",
    "x_min, x_max = -10, 10\n",
    "y_min, y_max = -10, 10\n",
    "\n",
    "# Define the labels\n",
    "labels = [0, 1]\n",
    "X,Y=[],[]\n",
    "# Create a new CSV file\n",
    "with open('dataset.csv', 'w', newline='') as file:\n",
    "    writer = csv.writer(file)\n",
    "\n",
    "    # Write the header row\n",
    "    writer.writerow(['x', 'y', 'label'])\n",
    "\n",
    "    # Generate random data points\n",
    "    for _ in range(num_points):\n",
    "        \n",
    "        label = random.choice(labels)\n",
    "        x = random.uniform(x_min, x_max)\n",
    "        y = random.uniform(y_min, y_max)*0.01+label\n",
    "        X.append(x)\n",
    "        Y.append(y)\n",
    "\n",
    "        # Write the data point to the CSV file\n",
    "        writer.writerow([x, y, label])\n",
    "\n",
    "print(\"Dataset created successfully!\")"
   ]
  },
  {
   "cell_type": "code",
   "execution_count": 10,
   "metadata": {},
   "outputs": [
    {
     "data": {
      "image/png": "[encoded data removed]",
      "text/plain": [
       "<Figure size 432x288 with 1 Axes>"
      ]
     },
     "metadata": {
      "needs_background": "light"
     },
     "output_type": "display_data"
    }
   ],
   "source": [
    "import matplotlib.pyplot as plt\n",
    "\n",
    "# Plot the x and y values\n",
    "plt.scatter(X, Y)\n",
    "plt.xlabel('x')\n",
    "plt.ylabel('y')\n",
    "plt.title('2D Plane')\n",
    "plt.show()\n"
   ]
  },
  {
   "cell_type": "code",
   "execution_count": null,
   "metadata": {},
   "outputs": [],
   "source": []
  }
 ],
 "metadata": {
  "kernelspec": {
   "display_name": "Python 3",
   "language": "python",
   "name": "python3"
  },
  "language_info": {
   "codemirror_mode": {
    "name": "ipython",
    "version": 3
   },
   "file_extension": ".py",
   "mimetype": "text/x-python",
   "name": "python",
   "nbconvert_exporter": "python",
   "pygments_lexer": "ipython3",
   "version": "3.8.10"
  }
 },
 "nbformat": 4,
 "nbformat_minor": 2
}
